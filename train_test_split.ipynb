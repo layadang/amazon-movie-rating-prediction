{
 "cells": [
  {
   "cell_type": "markdown",
   "metadata": {},
   "source": [
    "# Run `feature_extraction.py` first!"
   ]
  },
  {
   "cell_type": "markdown",
   "metadata": {},
   "source": [
    "## Imports"
   ]
  },
  {
   "cell_type": "code",
   "execution_count": 18,
   "metadata": {},
   "outputs": [],
   "source": [
    "import pandas as pd\n",
    "import numpy as np\n",
    "from sklearn.model_selection import train_test_split\n",
    "from collections import Counter"
   ]
  },
  {
   "cell_type": "code",
   "execution_count": 19,
   "metadata": {},
   "outputs": [
    {
     "data": {
      "text/plain": [
       "((1485335, 21), (212192, 21))"
      ]
     },
     "execution_count": 19,
     "metadata": {},
     "output_type": "execute_result"
    }
   ],
   "source": [
    "full_data = pd.read_csv(\"data/full_features.csv\")\n",
    "submission = pd.read_csv(\"data/submission_features.csv\")\n",
    "full_data.shape, submission.shape"
   ]
  },
  {
   "cell_type": "code",
   "execution_count": 20,
   "metadata": {},
   "outputs": [
    {
     "data": {
      "text/html": [
       "<div>\n",
       "<style scoped>\n",
       "    .dataframe tbody tr th:only-of-type {\n",
       "        vertical-align: middle;\n",
       "    }\n",
       "\n",
       "    .dataframe tbody tr th {\n",
       "        vertical-align: top;\n",
       "    }\n",
       "\n",
       "    .dataframe thead th {\n",
       "        text-align: right;\n",
       "    }\n",
       "</style>\n",
       "<table border=\"1\" class=\"dataframe\">\n",
       "  <thead>\n",
       "    <tr style=\"text-align: right;\">\n",
       "      <th></th>\n",
       "      <th>Id</th>\n",
       "      <th>ProductId</th>\n",
       "      <th>UserId</th>\n",
       "      <th>Summary</th>\n",
       "      <th>Text</th>\n",
       "      <th>Score</th>\n",
       "      <th>Month</th>\n",
       "      <th>Year</th>\n",
       "      <th>Helpful</th>\n",
       "      <th>Unhelpful</th>\n",
       "      <th>...</th>\n",
       "      <th>QuestionCount</th>\n",
       "      <th>AllCapsCount</th>\n",
       "      <th>Words</th>\n",
       "      <th>WordCount</th>\n",
       "      <th>TextCleaned</th>\n",
       "      <th>UniqueWords</th>\n",
       "      <th>LemmatizedSummary</th>\n",
       "      <th>LemmatizedCleanedText</th>\n",
       "      <th>SummarySentiment</th>\n",
       "      <th>CleanedTextSentiment</th>\n",
       "    </tr>\n",
       "  </thead>\n",
       "  <tbody>\n",
       "    <tr>\n",
       "      <th>0</th>\n",
       "      <td>914403</td>\n",
       "      <td>B0009W5KHM</td>\n",
       "      <td>AV6QDP8Q0ONK4</td>\n",
       "      <td>good fun film</td>\n",
       "      <td>While most straight to DVD films are not worth...</td>\n",
       "      <td>5.0</td>\n",
       "      <td>6</td>\n",
       "      <td>2012</td>\n",
       "      <td>2</td>\n",
       "      <td>0</td>\n",
       "      <td>...</td>\n",
       "      <td>0</td>\n",
       "      <td>2</td>\n",
       "      <td>While most straight to DVD films are not worth...</td>\n",
       "      <td>155</td>\n",
       "      <td>straight dvd worth watching exception kim basi...</td>\n",
       "      <td>0.748387</td>\n",
       "      <td>good fun film</td>\n",
       "      <td>straight dvd worth watching exception kim basi...</td>\n",
       "      <td>0.7351</td>\n",
       "      <td>-0.5859</td>\n",
       "    </tr>\n",
       "  </tbody>\n",
       "</table>\n",
       "<p>1 rows × 21 columns</p>\n",
       "</div>"
      ],
      "text/plain": [
       "       Id   ProductId         UserId        Summary  \\\n",
       "0  914403  B0009W5KHM  AV6QDP8Q0ONK4  good fun film   \n",
       "\n",
       "                                                Text  Score  Month  Year  \\\n",
       "0  While most straight to DVD films are not worth...    5.0      6  2012   \n",
       "\n",
       "   Helpful  Unhelpful  ...  QuestionCount  AllCapsCount  \\\n",
       "0        2          0  ...              0             2   \n",
       "\n",
       "                                               Words WordCount  \\\n",
       "0  While most straight to DVD films are not worth...       155   \n",
       "\n",
       "                                         TextCleaned UniqueWords  \\\n",
       "0  straight dvd worth watching exception kim basi...    0.748387   \n",
       "\n",
       "   LemmatizedSummary                              LemmatizedCleanedText  \\\n",
       "0      good fun film  straight dvd worth watching exception kim basi...   \n",
       "\n",
       "  SummarySentiment  CleanedTextSentiment  \n",
       "0           0.7351               -0.5859  \n",
       "\n",
       "[1 rows x 21 columns]"
      ]
     },
     "execution_count": 20,
     "metadata": {},
     "output_type": "execute_result"
    }
   ],
   "source": [
    "full_data.head(1)"
   ]
  },
  {
   "cell_type": "markdown",
   "metadata": {},
   "source": [
    "## Split"
   ]
  },
  {
   "cell_type": "code",
   "execution_count": 30,
   "metadata": {},
   "outputs": [],
   "source": [
    "X = full_data.drop(columns=['Id', 'Words'], axis=1)\n",
    "y = full_data['Score']"
   ]
  },
  {
   "cell_type": "code",
   "execution_count": 31,
   "metadata": {},
   "outputs": [
    {
     "name": "stdout",
     "output_type": "stream",
     "text": [
      "Training Set: (1188268, 19), (1188268,)\n",
      "Testing Set: (297067, 19), (297067,)\n"
     ]
    }
   ],
   "source": [
    "X_train, X_test, y_train, y_test = train_test_split(X, y, test_size=0.2, random_state=123, stratify=y)\n",
    "print(f\"Training Set: {X_train.shape}, {y_train.shape}\")\n",
    "print(f\"Testing Set: {X_test.shape}, {y_test.shape}\")"
   ]
  },
  {
   "cell_type": "markdown",
   "metadata": {},
   "source": [
    "## Getting Train Averages"
   ]
  },
  {
   "cell_type": "code",
   "execution_count": 32,
   "metadata": {},
   "outputs": [],
   "source": [
    "# Get averages for products and users from train data set\n",
    "from collections import Counter\n",
    "product_counts = Counter(X_train['ProductId'])\n",
    "user_counts = Counter(X_train['UserId'])\n",
    "\n",
    "product_avg_score = {}\n",
    "user_avg_score = {}\n",
    "\n",
    "# first get total scores first\n",
    "for i, row in X_train.iterrows():\n",
    "    if (row['ProductId'] not in product_avg_score):\n",
    "        product_avg_score[row['ProductId']] = row['Score']\n",
    "        continue\n",
    "    \n",
    "    if (row['UserId'] not in user_avg_score): \n",
    "        user_avg_score[row['UserId']] = row['Score']\n",
    "        continue\n",
    "\n",
    "    product_avg_score[row['ProductId']] += row['Score']\n",
    "    user_avg_score[row['UserId']] += row['Score']\n",
    "\n",
    "# then get averages by dividing with count\n",
    "for product in product_avg_score:\n",
    "    product_avg_score[product] /= product_counts[product]\n",
    "    \n",
    "for user in user_avg_score:\n",
    "    user_avg_score[user] /= user_counts[user]"
   ]
  },
  {
   "cell_type": "code",
   "execution_count": 33,
   "metadata": {},
   "outputs": [
    {
     "data": {
      "text/plain": [
       "4.110520522306416"
      ]
     },
     "execution_count": 33,
     "metadata": {},
     "output_type": "execute_result"
    }
   ],
   "source": [
    "# overall average score of training set\n",
    "overall_avg = np.average(X_train['Score']).item()\n",
    "overall_avg"
   ]
  },
  {
   "cell_type": "code",
   "execution_count": 34,
   "metadata": {},
   "outputs": [
    {
     "data": {
      "text/html": [
       "<div>\n",
       "<style scoped>\n",
       "    .dataframe tbody tr th:only-of-type {\n",
       "        vertical-align: middle;\n",
       "    }\n",
       "\n",
       "    .dataframe tbody tr th {\n",
       "        vertical-align: top;\n",
       "    }\n",
       "\n",
       "    .dataframe thead th {\n",
       "        text-align: right;\n",
       "    }\n",
       "</style>\n",
       "<table border=\"1\" class=\"dataframe\">\n",
       "  <thead>\n",
       "    <tr style=\"text-align: right;\">\n",
       "      <th></th>\n",
       "      <th>ProductId</th>\n",
       "      <th>UserId</th>\n",
       "      <th>Summary</th>\n",
       "      <th>Text</th>\n",
       "      <th>Score</th>\n",
       "      <th>Month</th>\n",
       "      <th>Year</th>\n",
       "      <th>Helpful</th>\n",
       "      <th>Unhelpful</th>\n",
       "      <th>ExclaimationCount</th>\n",
       "      <th>...</th>\n",
       "      <th>AllCapsCount</th>\n",
       "      <th>WordCount</th>\n",
       "      <th>TextCleaned</th>\n",
       "      <th>UniqueWords</th>\n",
       "      <th>LemmatizedSummary</th>\n",
       "      <th>LemmatizedCleanedText</th>\n",
       "      <th>SummarySentiment</th>\n",
       "      <th>CleanedTextSentiment</th>\n",
       "      <th>ProductAvgScore</th>\n",
       "      <th>UserAvgScore</th>\n",
       "    </tr>\n",
       "  </thead>\n",
       "  <tbody>\n",
       "    <tr>\n",
       "      <th>985584</th>\n",
       "      <td>6305183260</td>\n",
       "      <td>A36AH31X84FIC8</td>\n",
       "      <td>a horror classic</td>\n",
       "      <td>i can't believe parents had a problem with thi...</td>\n",
       "      <td>5.0</td>\n",
       "      <td>12</td>\n",
       "      <td>1999</td>\n",
       "      <td>0</td>\n",
       "      <td>0</td>\n",
       "      <td>0</td>\n",
       "      <td>...</td>\n",
       "      <td>0</td>\n",
       "      <td>97</td>\n",
       "      <td>believe parents problem scary gore nailbiter s...</td>\n",
       "      <td>0.670103</td>\n",
       "      <td>a horror classic</td>\n",
       "      <td>believe parent problem scary gore nailbiter sa...</td>\n",
       "      <td>-0.5719</td>\n",
       "      <td>-0.8781</td>\n",
       "      <td>3.2</td>\n",
       "      <td>3.781513</td>\n",
       "    </tr>\n",
       "  </tbody>\n",
       "</table>\n",
       "<p>1 rows × 21 columns</p>\n",
       "</div>"
      ],
      "text/plain": [
       "         ProductId          UserId           Summary  \\\n",
       "985584  6305183260  A36AH31X84FIC8  a horror classic   \n",
       "\n",
       "                                                     Text  Score  Month  Year  \\\n",
       "985584  i can't believe parents had a problem with thi...    5.0     12  1999   \n",
       "\n",
       "        Helpful  Unhelpful  ExclaimationCount  ...  AllCapsCount  WordCount  \\\n",
       "985584        0          0                  0  ...             0         97   \n",
       "\n",
       "                                              TextCleaned UniqueWords  \\\n",
       "985584  believe parents problem scary gore nailbiter s...    0.670103   \n",
       "\n",
       "        LemmatizedSummary                              LemmatizedCleanedText  \\\n",
       "985584   a horror classic  believe parent problem scary gore nailbiter sa...   \n",
       "\n",
       "       SummarySentiment  CleanedTextSentiment  ProductAvgScore  UserAvgScore  \n",
       "985584          -0.5719               -0.8781              3.2      3.781513  \n",
       "\n",
       "[1 rows x 21 columns]"
      ]
     },
     "execution_count": 34,
     "metadata": {},
     "output_type": "execute_result"
    }
   ],
   "source": [
    "# Add columns\n",
    "X_train['ProductAvgScore'] = X_train['ProductId'].map(lambda x: product_avg_score.get(x, overall_avg))\n",
    "X_train['UserAvgScore'] = X_train['UserId'].map(lambda x: user_avg_score.get(x, overall_avg))\n",
    "X_train.head(1)"
   ]
  },
  {
   "cell_type": "code",
   "execution_count": 35,
   "metadata": {},
   "outputs": [
    {
     "data": {
      "text/html": [
       "<div>\n",
       "<style scoped>\n",
       "    .dataframe tbody tr th:only-of-type {\n",
       "        vertical-align: middle;\n",
       "    }\n",
       "\n",
       "    .dataframe tbody tr th {\n",
       "        vertical-align: top;\n",
       "    }\n",
       "\n",
       "    .dataframe thead th {\n",
       "        text-align: right;\n",
       "    }\n",
       "</style>\n",
       "<table border=\"1\" class=\"dataframe\">\n",
       "  <thead>\n",
       "    <tr style=\"text-align: right;\">\n",
       "      <th></th>\n",
       "      <th>ProductId</th>\n",
       "      <th>UserId</th>\n",
       "      <th>Summary</th>\n",
       "      <th>Text</th>\n",
       "      <th>Score</th>\n",
       "      <th>Month</th>\n",
       "      <th>Year</th>\n",
       "      <th>Helpful</th>\n",
       "      <th>Unhelpful</th>\n",
       "      <th>ExclaimationCount</th>\n",
       "      <th>...</th>\n",
       "      <th>AllCapsCount</th>\n",
       "      <th>WordCount</th>\n",
       "      <th>TextCleaned</th>\n",
       "      <th>UniqueWords</th>\n",
       "      <th>LemmatizedSummary</th>\n",
       "      <th>LemmatizedCleanedText</th>\n",
       "      <th>SummarySentiment</th>\n",
       "      <th>CleanedTextSentiment</th>\n",
       "      <th>ProductAvgScore</th>\n",
       "      <th>UserAvgScore</th>\n",
       "    </tr>\n",
       "  </thead>\n",
       "  <tbody>\n",
       "    <tr>\n",
       "      <th>1322849</th>\n",
       "      <td>B001VPJYZK</td>\n",
       "      <td>A1XKXV4BSW11TF</td>\n",
       "      <td>for my wife</td>\n",
       "      <td>Thank you for having this item, I live on Guam...</td>\n",
       "      <td>5.0</td>\n",
       "      <td>8</td>\n",
       "      <td>2010</td>\n",
       "      <td>0</td>\n",
       "      <td>0</td>\n",
       "      <td>1</td>\n",
       "      <td>...</td>\n",
       "      <td>0</td>\n",
       "      <td>35</td>\n",
       "      <td>thank item live guam find item wife checked am...</td>\n",
       "      <td>0.857143</td>\n",
       "      <td>for my wife</td>\n",
       "      <td>thank item live guam find item wife checked am...</td>\n",
       "      <td>0.0</td>\n",
       "      <td>0.7269</td>\n",
       "      <td>3.448276</td>\n",
       "      <td>5.0</td>\n",
       "    </tr>\n",
       "  </tbody>\n",
       "</table>\n",
       "<p>1 rows × 21 columns</p>\n",
       "</div>"
      ],
      "text/plain": [
       "          ProductId          UserId      Summary  \\\n",
       "1322849  B001VPJYZK  A1XKXV4BSW11TF  for my wife   \n",
       "\n",
       "                                                      Text  Score  Month  \\\n",
       "1322849  Thank you for having this item, I live on Guam...    5.0      8   \n",
       "\n",
       "         Year  Helpful  Unhelpful  ExclaimationCount  ...  AllCapsCount  \\\n",
       "1322849  2010        0          0                  1  ...             0   \n",
       "\n",
       "         WordCount                                        TextCleaned  \\\n",
       "1322849         35  thank item live guam find item wife checked am...   \n",
       "\n",
       "        UniqueWords  LemmatizedSummary  \\\n",
       "1322849    0.857143        for my wife   \n",
       "\n",
       "                                     LemmatizedCleanedText SummarySentiment  \\\n",
       "1322849  thank item live guam find item wife checked am...              0.0   \n",
       "\n",
       "         CleanedTextSentiment  ProductAvgScore  UserAvgScore  \n",
       "1322849                0.7269         3.448276           5.0  \n",
       "\n",
       "[1 rows x 21 columns]"
      ]
     },
     "execution_count": 35,
     "metadata": {},
     "output_type": "execute_result"
    }
   ],
   "source": [
    "# Add columns\n",
    "X_test['ProductAvgScore'] = X_test['ProductId'].map(lambda x: product_avg_score.get(x, overall_avg))\n",
    "X_test['UserAvgScore'] = X_test['UserId'].map(lambda x: user_avg_score.get(x, overall_avg))\n",
    "X_test.head(1)"
   ]
  },
  {
   "cell_type": "code",
   "execution_count": 36,
   "metadata": {},
   "outputs": [
    {
     "data": {
      "text/html": [
       "<div>\n",
       "<style scoped>\n",
       "    .dataframe tbody tr th:only-of-type {\n",
       "        vertical-align: middle;\n",
       "    }\n",
       "\n",
       "    .dataframe tbody tr th {\n",
       "        vertical-align: top;\n",
       "    }\n",
       "\n",
       "    .dataframe thead th {\n",
       "        text-align: right;\n",
       "    }\n",
       "</style>\n",
       "<table border=\"1\" class=\"dataframe\">\n",
       "  <thead>\n",
       "    <tr style=\"text-align: right;\">\n",
       "      <th></th>\n",
       "      <th>Id</th>\n",
       "      <th>ProductId</th>\n",
       "      <th>UserId</th>\n",
       "      <th>Summary</th>\n",
       "      <th>Text</th>\n",
       "      <th>Score</th>\n",
       "      <th>Month</th>\n",
       "      <th>Year</th>\n",
       "      <th>Helpful</th>\n",
       "      <th>Unhelpful</th>\n",
       "      <th>...</th>\n",
       "      <th>Words</th>\n",
       "      <th>WordCount</th>\n",
       "      <th>TextCleaned</th>\n",
       "      <th>UniqueWords</th>\n",
       "      <th>LemmatizedSummary</th>\n",
       "      <th>LemmatizedCleanedText</th>\n",
       "      <th>SummarySentiment</th>\n",
       "      <th>CleanedTextSentiment</th>\n",
       "      <th>ProductAvgScore</th>\n",
       "      <th>UserAvgScore</th>\n",
       "    </tr>\n",
       "  </thead>\n",
       "  <tbody>\n",
       "    <tr>\n",
       "      <th>0</th>\n",
       "      <td>1323432</td>\n",
       "      <td>B0034G4P30</td>\n",
       "      <td>A120UTHQDQIJGH</td>\n",
       "      <td>okay for a rental</td>\n",
       "      <td>This movie was just alright for me. I think pe...</td>\n",
       "      <td>NaN</td>\n",
       "      <td>1</td>\n",
       "      <td>2014</td>\n",
       "      <td>0</td>\n",
       "      <td>0</td>\n",
       "      <td>...</td>\n",
       "      <td>This movie was just alright for me I think peo...</td>\n",
       "      <td>169</td>\n",
       "      <td>alright people saying ensemble cast misleading...</td>\n",
       "      <td>0.650888</td>\n",
       "      <td>okay for a rental</td>\n",
       "      <td>alright people saying ensemble cast misleading...</td>\n",
       "      <td>0.2263</td>\n",
       "      <td>0.9866</td>\n",
       "      <td>3.478548</td>\n",
       "      <td>2.545455</td>\n",
       "    </tr>\n",
       "  </tbody>\n",
       "</table>\n",
       "<p>1 rows × 23 columns</p>\n",
       "</div>"
      ],
      "text/plain": [
       "        Id   ProductId          UserId            Summary  \\\n",
       "0  1323432  B0034G4P30  A120UTHQDQIJGH  okay for a rental   \n",
       "\n",
       "                                                Text  Score  Month  Year  \\\n",
       "0  This movie was just alright for me. I think pe...    NaN      1  2014   \n",
       "\n",
       "   Helpful  Unhelpful  ...                                              Words  \\\n",
       "0        0          0  ...  This movie was just alright for me I think peo...   \n",
       "\n",
       "   WordCount                                        TextCleaned UniqueWords  \\\n",
       "0        169  alright people saying ensemble cast misleading...    0.650888   \n",
       "\n",
       "   LemmatizedSummary                              LemmatizedCleanedText  \\\n",
       "0  okay for a rental  alright people saying ensemble cast misleading...   \n",
       "\n",
       "   SummarySentiment CleanedTextSentiment ProductAvgScore  UserAvgScore  \n",
       "0            0.2263               0.9866        3.478548      2.545455  \n",
       "\n",
       "[1 rows x 23 columns]"
      ]
     },
     "execution_count": 36,
     "metadata": {},
     "output_type": "execute_result"
    }
   ],
   "source": [
    "# Add columns\n",
    "submission['ProductAvgScore'] = submission['ProductId'].map(lambda x: product_avg_score.get(x, overall_avg))\n",
    "submission['UserAvgScore'] = submission['UserId'].map(lambda x: user_avg_score.get(x, overall_avg))\n",
    "submission.head(1)"
   ]
  },
  {
   "cell_type": "code",
   "execution_count": 37,
   "metadata": {},
   "outputs": [],
   "source": [
    "# Add counter column\n",
    "X_train['ProductPopularity'] = X_train['ProductId'].map(lambda x: product_counts.get(x))\n",
    "X_train['UserPopularity'] = X_train['UserId'].map(lambda x: user_counts.get(x))\n",
    "\n",
    "# If popularity not in train, default to 0\n",
    "X_test['ProductPopularity'] = X_test['ProductId'].map(lambda x: product_counts.get(x, 0))\n",
    "X_test['UserPopularity'] = X_test['UserId'].map(lambda x: user_counts.get(x, 0))\n",
    "submission['ProductPopularity'] = submission['ProductId'].map(lambda x: product_counts.get(x, 0))\n",
    "submission['UserPopularity'] = submission['UserId'].map(lambda x: user_counts.get(x, 0))"
   ]
  },
  {
   "cell_type": "markdown",
   "metadata": {},
   "source": [
    "### See some stats (optional)"
   ]
  },
  {
   "cell_type": "code",
   "execution_count": 38,
   "metadata": {},
   "outputs": [
    {
     "data": {
      "text/html": [
       "<div>\n",
       "<style scoped>\n",
       "    .dataframe tbody tr th:only-of-type {\n",
       "        vertical-align: middle;\n",
       "    }\n",
       "\n",
       "    .dataframe tbody tr th {\n",
       "        vertical-align: top;\n",
       "    }\n",
       "\n",
       "    .dataframe thead th {\n",
       "        text-align: right;\n",
       "    }\n",
       "</style>\n",
       "<table border=\"1\" class=\"dataframe\">\n",
       "  <thead>\n",
       "    <tr style=\"text-align: right;\">\n",
       "      <th></th>\n",
       "      <th>count</th>\n",
       "      <th>mean</th>\n",
       "      <th>std</th>\n",
       "      <th>min</th>\n",
       "      <th>25%</th>\n",
       "      <th>50%</th>\n",
       "      <th>75%</th>\n",
       "      <th>max</th>\n",
       "    </tr>\n",
       "    <tr>\n",
       "      <th>Score</th>\n",
       "      <th></th>\n",
       "      <th></th>\n",
       "      <th></th>\n",
       "      <th></th>\n",
       "      <th></th>\n",
       "      <th></th>\n",
       "      <th></th>\n",
       "      <th></th>\n",
       "    </tr>\n",
       "  </thead>\n",
       "  <tbody>\n",
       "    <tr>\n",
       "      <th>1.0</th>\n",
       "      <td>72952.0</td>\n",
       "      <td>136.602424</td>\n",
       "      <td>191.042784</td>\n",
       "      <td>1.0</td>\n",
       "      <td>18.0</td>\n",
       "      <td>65.0</td>\n",
       "      <td>175.0</td>\n",
       "      <td>1569.0</td>\n",
       "    </tr>\n",
       "    <tr>\n",
       "      <th>2.0</th>\n",
       "      <td>71742.0</td>\n",
       "      <td>133.641061</td>\n",
       "      <td>189.280443</td>\n",
       "      <td>1.0</td>\n",
       "      <td>19.0</td>\n",
       "      <td>64.0</td>\n",
       "      <td>171.0</td>\n",
       "      <td>1569.0</td>\n",
       "    </tr>\n",
       "    <tr>\n",
       "      <th>3.0</th>\n",
       "      <td>140863.0</td>\n",
       "      <td>130.517836</td>\n",
       "      <td>191.260543</td>\n",
       "      <td>1.0</td>\n",
       "      <td>18.0</td>\n",
       "      <td>59.0</td>\n",
       "      <td>163.0</td>\n",
       "      <td>1569.0</td>\n",
       "    </tr>\n",
       "    <tr>\n",
       "      <th>4.0</th>\n",
       "      <td>268180.0</td>\n",
       "      <td>131.167794</td>\n",
       "      <td>188.554179</td>\n",
       "      <td>1.0</td>\n",
       "      <td>20.0</td>\n",
       "      <td>63.0</td>\n",
       "      <td>166.0</td>\n",
       "      <td>1569.0</td>\n",
       "    </tr>\n",
       "    <tr>\n",
       "      <th>5.0</th>\n",
       "      <td>634531.0</td>\n",
       "      <td>139.093661</td>\n",
       "      <td>197.307891</td>\n",
       "      <td>1.0</td>\n",
       "      <td>21.0</td>\n",
       "      <td>65.0</td>\n",
       "      <td>174.0</td>\n",
       "      <td>1569.0</td>\n",
       "    </tr>\n",
       "  </tbody>\n",
       "</table>\n",
       "</div>"
      ],
      "text/plain": [
       "          count        mean         std  min   25%   50%    75%     max\n",
       "Score                                                                  \n",
       "1.0     72952.0  136.602424  191.042784  1.0  18.0  65.0  175.0  1569.0\n",
       "2.0     71742.0  133.641061  189.280443  1.0  19.0  64.0  171.0  1569.0\n",
       "3.0    140863.0  130.517836  191.260543  1.0  18.0  59.0  163.0  1569.0\n",
       "4.0    268180.0  131.167794  188.554179  1.0  20.0  63.0  166.0  1569.0\n",
       "5.0    634531.0  139.093661  197.307891  1.0  21.0  65.0  174.0  1569.0"
      ]
     },
     "execution_count": 38,
     "metadata": {},
     "output_type": "execute_result"
    }
   ],
   "source": [
    "X_train.groupby('Score')['ProductPopularity'].describe()"
   ]
  },
  {
   "cell_type": "code",
   "execution_count": 39,
   "metadata": {},
   "outputs": [
    {
     "data": {
      "text/html": [
       "<div>\n",
       "<style scoped>\n",
       "    .dataframe tbody tr th:only-of-type {\n",
       "        vertical-align: middle;\n",
       "    }\n",
       "\n",
       "    .dataframe tbody tr th {\n",
       "        vertical-align: top;\n",
       "    }\n",
       "\n",
       "    .dataframe thead th {\n",
       "        text-align: right;\n",
       "    }\n",
       "</style>\n",
       "<table border=\"1\" class=\"dataframe\">\n",
       "  <thead>\n",
       "    <tr style=\"text-align: right;\">\n",
       "      <th></th>\n",
       "      <th>count</th>\n",
       "      <th>mean</th>\n",
       "      <th>std</th>\n",
       "      <th>min</th>\n",
       "      <th>25%</th>\n",
       "      <th>50%</th>\n",
       "      <th>75%</th>\n",
       "      <th>max</th>\n",
       "    </tr>\n",
       "    <tr>\n",
       "      <th>Score</th>\n",
       "      <th></th>\n",
       "      <th></th>\n",
       "      <th></th>\n",
       "      <th></th>\n",
       "      <th></th>\n",
       "      <th></th>\n",
       "      <th></th>\n",
       "      <th></th>\n",
       "    </tr>\n",
       "  </thead>\n",
       "  <tbody>\n",
       "    <tr>\n",
       "      <th>1.0</th>\n",
       "      <td>72952.0</td>\n",
       "      <td>70.496998</td>\n",
       "      <td>191.564511</td>\n",
       "      <td>1.0</td>\n",
       "      <td>6.0</td>\n",
       "      <td>12.0</td>\n",
       "      <td>41.0</td>\n",
       "      <td>1668.0</td>\n",
       "    </tr>\n",
       "    <tr>\n",
       "      <th>2.0</th>\n",
       "      <td>71742.0</td>\n",
       "      <td>122.435352</td>\n",
       "      <td>272.995170</td>\n",
       "      <td>1.0</td>\n",
       "      <td>7.0</td>\n",
       "      <td>19.0</td>\n",
       "      <td>87.0</td>\n",
       "      <td>1668.0</td>\n",
       "    </tr>\n",
       "    <tr>\n",
       "      <th>3.0</th>\n",
       "      <td>140863.0</td>\n",
       "      <td>135.464018</td>\n",
       "      <td>279.093299</td>\n",
       "      <td>1.0</td>\n",
       "      <td>7.0</td>\n",
       "      <td>21.0</td>\n",
       "      <td>113.0</td>\n",
       "      <td>1668.0</td>\n",
       "    </tr>\n",
       "    <tr>\n",
       "      <th>4.0</th>\n",
       "      <td>268180.0</td>\n",
       "      <td>120.358151</td>\n",
       "      <td>252.966113</td>\n",
       "      <td>1.0</td>\n",
       "      <td>7.0</td>\n",
       "      <td>18.0</td>\n",
       "      <td>95.0</td>\n",
       "      <td>1668.0</td>\n",
       "    </tr>\n",
       "    <tr>\n",
       "      <th>5.0</th>\n",
       "      <td>634531.0</td>\n",
       "      <td>66.507119</td>\n",
       "      <td>184.117430</td>\n",
       "      <td>1.0</td>\n",
       "      <td>6.0</td>\n",
       "      <td>11.0</td>\n",
       "      <td>35.0</td>\n",
       "      <td>1668.0</td>\n",
       "    </tr>\n",
       "  </tbody>\n",
       "</table>\n",
       "</div>"
      ],
      "text/plain": [
       "          count        mean         std  min  25%   50%    75%     max\n",
       "Score                                                                 \n",
       "1.0     72952.0   70.496998  191.564511  1.0  6.0  12.0   41.0  1668.0\n",
       "2.0     71742.0  122.435352  272.995170  1.0  7.0  19.0   87.0  1668.0\n",
       "3.0    140863.0  135.464018  279.093299  1.0  7.0  21.0  113.0  1668.0\n",
       "4.0    268180.0  120.358151  252.966113  1.0  7.0  18.0   95.0  1668.0\n",
       "5.0    634531.0   66.507119  184.117430  1.0  6.0  11.0   35.0  1668.0"
      ]
     },
     "execution_count": 39,
     "metadata": {},
     "output_type": "execute_result"
    }
   ],
   "source": [
    "X_train.groupby('Score')['UserPopularity'].describe()"
   ]
  },
  {
   "cell_type": "code",
   "execution_count": 40,
   "metadata": {},
   "outputs": [
    {
     "data": {
      "text/plain": [
       "<Figure size 1000x600 with 0 Axes>"
      ]
     },
     "metadata": {},
     "output_type": "display_data"
    },
    {
     "data": {
      "image/png": "[encoded data removed]",
      "text/plain": [
       "<Figure size 640x480 with 1 Axes>"
      ]
     },
     "metadata": {},
     "output_type": "display_data"
    }
   ],
   "source": [
    "import matplotlib.pyplot as plt\n",
    "\n",
    "plt.figure(figsize=(10, 6))\n",
    "X_train.boxplot(column='ProductPopularity', by='Score', grid=False, showfliers=False)\n",
    "plt.title('Box Plot of ProductPopularity by Score')\n",
    "plt.suptitle('') \n",
    "plt.xlabel('Score')\n",
    "plt.ylabel('ProductPopularity')\n",
    "plt.show()"
   ]
  },
  {
   "cell_type": "code",
   "execution_count": 41,
   "metadata": {},
   "outputs": [
    {
     "data": {
      "text/plain": [
       "<Figure size 1000x600 with 0 Axes>"
      ]
     },
     "metadata": {},
     "output_type": "display_data"
    },
    {
     "data": {
      "image/png": "[encoded data removed]",
      "text/plain": [
       "<Figure size 640x480 with 1 Axes>"
      ]
     },
     "metadata": {},
     "output_type": "display_data"
    }
   ],
   "source": [
    "plt.figure(figsize=(10, 6))\n",
    "X_train.boxplot(column='UserPopularity', by='Score', grid=False, showfliers=False)\n",
    "plt.title('Box Plot of UserPopularity by Score')\n",
    "plt.suptitle('') \n",
    "plt.xlabel('Score')\n",
    "plt.ylabel('UserPopularity')\n",
    "plt.show()"
   ]
  },
  {
   "cell_type": "code",
   "execution_count": 44,
   "metadata": {},
   "outputs": [
    {
     "data": {
      "text/html": [
       "<div>\n",
       "<style scoped>\n",
       "    .dataframe tbody tr th:only-of-type {\n",
       "        vertical-align: middle;\n",
       "    }\n",
       "\n",
       "    .dataframe tbody tr th {\n",
       "        vertical-align: top;\n",
       "    }\n",
       "\n",
       "    .dataframe thead th {\n",
       "        text-align: right;\n",
       "    }\n",
       "</style>\n",
       "<table border=\"1\" class=\"dataframe\">\n",
       "  <thead>\n",
       "    <tr style=\"text-align: right;\">\n",
       "      <th></th>\n",
       "      <th>ProductId</th>\n",
       "      <th>UserId</th>\n",
       "      <th>Summary</th>\n",
       "      <th>Text</th>\n",
       "      <th>Score</th>\n",
       "      <th>Month</th>\n",
       "      <th>Year</th>\n",
       "      <th>Helpful</th>\n",
       "      <th>Unhelpful</th>\n",
       "      <th>ExclaimationCount</th>\n",
       "      <th>...</th>\n",
       "      <th>TextCleaned</th>\n",
       "      <th>UniqueWords</th>\n",
       "      <th>LemmatizedSummary</th>\n",
       "      <th>LemmatizedCleanedText</th>\n",
       "      <th>SummarySentiment</th>\n",
       "      <th>CleanedTextSentiment</th>\n",
       "      <th>ProductAvgScore</th>\n",
       "      <th>UserAvgScore</th>\n",
       "      <th>ProductPopularity</th>\n",
       "      <th>UserPopularity</th>\n",
       "    </tr>\n",
       "  </thead>\n",
       "  <tbody>\n",
       "    <tr>\n",
       "      <th>1322849</th>\n",
       "      <td>B001VPJYZK</td>\n",
       "      <td>A1XKXV4BSW11TF</td>\n",
       "      <td>for my wife</td>\n",
       "      <td>Thank you for having this item, I live on Guam...</td>\n",
       "      <td>5.0</td>\n",
       "      <td>8</td>\n",
       "      <td>2010</td>\n",
       "      <td>0</td>\n",
       "      <td>0</td>\n",
       "      <td>1</td>\n",
       "      <td>...</td>\n",
       "      <td>thank item live guam find item wife checked am...</td>\n",
       "      <td>0.857143</td>\n",
       "      <td>for my wife</td>\n",
       "      <td>thank item live guam find item wife checked am...</td>\n",
       "      <td>0.0</td>\n",
       "      <td>0.7269</td>\n",
       "      <td>3.448276</td>\n",
       "      <td>5.0</td>\n",
       "      <td>29</td>\n",
       "      <td>4</td>\n",
       "    </tr>\n",
       "  </tbody>\n",
       "</table>\n",
       "<p>1 rows × 23 columns</p>\n",
       "</div>"
      ],
      "text/plain": [
       "          ProductId          UserId      Summary  \\\n",
       "1322849  B001VPJYZK  A1XKXV4BSW11TF  for my wife   \n",
       "\n",
       "                                                      Text  Score  Month  \\\n",
       "1322849  Thank you for having this item, I live on Guam...    5.0      8   \n",
       "\n",
       "         Year  Helpful  Unhelpful  ExclaimationCount  ...  \\\n",
       "1322849  2010        0          0                  1  ...   \n",
       "\n",
       "                                               TextCleaned  UniqueWords  \\\n",
       "1322849  thank item live guam find item wife checked am...     0.857143   \n",
       "\n",
       "         LemmatizedSummary                              LemmatizedCleanedText  \\\n",
       "1322849        for my wife  thank item live guam find item wife checked am...   \n",
       "\n",
       "         SummarySentiment CleanedTextSentiment ProductAvgScore  UserAvgScore  \\\n",
       "1322849               0.0               0.7269        3.448276           5.0   \n",
       "\n",
       "         ProductPopularity  UserPopularity  \n",
       "1322849                 29               4  \n",
       "\n",
       "[1 rows x 23 columns]"
      ]
     },
     "execution_count": 44,
     "metadata": {},
     "output_type": "execute_result"
    }
   ],
   "source": [
    "# Add columns to test and submission\n",
    "# if not there, fallback to training set score average (~4.11)\n",
    "X_test['ProductAvgScore'] = X_test['ProductId'].map(lambda x: product_avg_score.get(x, overall_avg))\n",
    "X_test['UserAvgScore'] = X_test['UserId'].map(lambda x: user_avg_score.get(x, overall_avg))\n",
    "submission['ProductAvgScore'] = submission['ProductId'].map(lambda x: product_avg_score.get(x, overall_avg))\n",
    "submission['UserAvgScore'] = submission['UserId'].map(lambda x: user_avg_score.get(x, overall_avg))\n",
    "\n",
    "X_test.head(1)"
   ]
  },
  {
   "cell_type": "markdown",
   "metadata": {},
   "source": [
    "## Save files"
   ]
  },
  {
   "cell_type": "code",
   "execution_count": 45,
   "metadata": {},
   "outputs": [],
   "source": [
    "# X_train = X_train.drop(columns=['ProductId', 'UserId', 'Score'], axis=1)\n",
    "# X_test = X_test.drop(columns=['ProductId', 'UserId', 'Score'], axis=1)\n",
    "# submission = submission.drop(columns=['Id', 'Words', 'ProductId', 'UserId', 'Score'], axis=1)"
   ]
  },
  {
   "cell_type": "code",
   "execution_count": 46,
   "metadata": {},
   "outputs": [],
   "source": [
    "X_train.to_csv(\"data/components/X_train.csv\", index=False, header=True)\n",
    "X_test.to_csv(\"data/components/X_test.csv\", index=False, header=True)\n",
    "submission.to_csv(\"data/components/submission.csv\", index=False, header=True)\n",
    "\n",
    "y_train.to_csv(\"data/components/y_train.csv\", index=False, header=True)\n",
    "y_test.to_csv(\"data/components/y_test.csv\", index=False, header=True)"
   ]
  },
  {
   "cell_type": "code",
   "execution_count": 47,
   "metadata": {},
   "outputs": [],
   "source": [
    "## deallocate memory\n",
    "del X_train\n",
    "del X_test\n",
    "del submission\n",
    "del y_train\n",
    "del y_test\n",
    "del full_data"
   ]
  }
 ],
 "metadata": {
  "kernelspec": {
   "display_name": "Python 3",
   "language": "python",
   "name": "python3"
  },
  "language_info": {
   "codemirror_mode": {
    "name": "ipython",
    "version": 3
   },
   "file_extension": ".py",
   "mimetype": "text/x-python",
   "name": "python",
   "nbconvert_exporter": "python",
   "pygments_lexer": "ipython3",
   "version": "3.10.15"
  }
 },
 "nbformat": 4,
 "nbformat_minor": 2
}
