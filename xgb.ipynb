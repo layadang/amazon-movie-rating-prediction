{
 "cells": [
  {
   "cell_type": "markdown",
   "metadata": {},
   "source": [
    "# Run `feature_extraction.py`, `train_test_split.ipynb`, and `tfidf.ipynb` first!\n",
    "(in respective order)"
   ]
  },
  {
   "cell_type": "markdown",
   "metadata": {},
   "source": [
    "## Imports"
   ]
  },
  {
   "cell_type": "code",
   "execution_count": 37,
   "metadata": {},
   "outputs": [],
   "source": [
    "import pandas as pd\n",
    "import numpy as np\n",
    "import matplotlib.pyplot as plt\n",
    "from xgboost import XGBClassifier\n",
    "from sklearn.model_selection import cross_val_score\n",
    "from sklearn.metrics import r2_score, confusion_matrix, accuracy_score\n",
    "from sklearn.model_selection import GridSearchCV\n",
    "from sklearn.preprocessing import LabelEncoder\n",
    "from sklearn.decomposition import TruncatedSVD\n",
    "\n",
    "from collections import Counter\n",
    "from helpers import resample_data, get_submission_ready, svd_reduce_and_combine"
   ]
  },
  {
   "cell_type": "markdown",
   "metadata": {},
   "source": [
    "## Load in files"
   ]
  },
  {
   "cell_type": "code",
   "execution_count": 254,
   "metadata": {},
   "outputs": [],
   "source": [
    "X_train_full = pd.read_csv(\"data/components/tfidf/X_train_full.csv\")\n",
    "y_train_full = pd.read_csv(\"data/components/y_train.csv\")\n",
    "X_test_full = pd.read_csv(\"data/components/tfidf/X_test_full.csv\")\n",
    "y_test = pd.read_csv(\"data/components/y_test.csv\")\n",
    "submission = pd.read_csv(\"data/components/tfidf/submission_full.csv\")"
   ]
  },
  {
   "cell_type": "markdown",
   "metadata": {},
   "source": [
    "## Feature transformation"
   ]
  },
  {
   "cell_type": "code",
   "execution_count": 157,
   "metadata": {},
   "outputs": [],
   "source": [
    "X_train_full_new_features = X_train_full.copy()"
   ]
  },
  {
   "cell_type": "code",
   "execution_count": 164,
   "metadata": {},
   "outputs": [
    {
     "name": "stdout",
     "output_type": "stream",
     "text": [
      "['ability', 'able', 'absolutely', 'across', 'act', 'acted', 'acting', 'action', 'actor', 'actors', 'actress', 'actual', 'adaptation', 'add', 'added', 'addition', 'adds', 'admit', 'adult', 'adults', 'adventure', 'age', 'ages', 'ago', 'agree', 'ahead', 'air', 'alien', 'alive', 'all', 'almost', 'alone', 'along', 'already', 'also', 'although', 'always', 'amazing', 'amazon', 'america', 'american', 'among', 'amount', 'an', 'and', 'animated', 'animation', 'anime', 'annoying', 'another', 'anymore', 'anyone', 'anything', 'anyway', 'apart', 'apparently', 'appear', 'appearance', 'appears', 'appreciate', 'art', 'as', 'aside', 'ask', 'aspect', 'at', 'atmosphere', 'attack', 'attempt', 'attempts', 'attention', 'audience', 'audiences', 'audio', 'available', 'average', 'award', 'away', 'awesome', 'awful', 'baby', 'back', 'background', 'bad', 'band', 'based', 'basic', 'basically', 'battle', 'be', 'beat', 'beautiful', 'beautifully', 'beauty', 'became', 'become', 'becomes', 'becoming', 'begin', 'beginning', 'begins', 'behind', 'believable', 'believe', 'ben', 'best', 'better', 'beyond', 'big', 'biggest', 'bill', 'bit', 'black', 'black white', 'blood', 'blu', 'blu ray', 'blue', 'body', 'bond', 'bonus', 'book', 'books', 'boring', 'born', 'bottom', 'bought', 'box', 'boy', 'boys', 'break', 'brief', 'brilliant', 'bring', 'brings', 'british', 'brother', 'brothers', 'brought', 'bruce', 'budget', 'bunch', 'business', 'but', 'buy', 'buying', 'call', 'called', 'came', 'camera', 'cannot', 'captain', 'car', 'care', 'career', 'cartoon', 'case', 'cast', 'casting', 'catch', 'caught', 'cause', 'century', 'certain', 'certainly', 'cgi', 'chance', 'change', 'changed', 'changes', 'character', 'characters', 'charming', 'cheap', 'check', 'cheesy', 'chemistry', 'child', 'childhood', 'children', 'choice', 'chris', 'christmas', 'cinema', 'cinematography', 'city', 'class', 'classic', 'classics', 'clean', 'clear', 'clearly', 'clever', 'close', 'co', 'cold', 'collection', 'college', 'color', 'come', 'comedy', 'comes', 'comic', 'coming', 'commentary', 'common', 'company', 'compared', 'compelling', 'complete', 'completely', 'complex', 'computer', 'concept', 'conclusion', 'condition', 'consider', 'considered', 'considering', 'contains', 'content', 'continue', 'continues', 'control', 'convincing', 'cool', 'cop', 'copy', 'costumes', 'could', 'country', 'couple', 'course', 'cover', 'crazy', 'create', 'created', 'creative', 'credit', 'credits', 'creepy', 'crew', 'crime', 'critics', 'culture', 'cut', 'cute', 'dance', 'dark', 'date', 'daughter', 'david', 'day', 'days', 'de', 'dead', 'deal', 'death', 'decent', 'decide', 'decided', 'decides', 'deep', 'definitely', 'deleted', 'delivers', 'depth', 'deserves', 'despite', 'detail', 'details', 'detective', 'development', 'dialogue', 'die', 'died', 'difference', 'different', 'difficult', 'digital', 'directed', 'directing', 'direction', 'director', 'directors', 'disappointed', 'disappointing', 'disc', 'discs', 'disney', 'disturbing', 'doctor', 'documentary', 'dog', 'done', 'double', 'doubt', 'dr', 'drama', 'dramatic', 'dream', 'due', 'dvd', 'dvds', 'earlier', 'early', 'earth', 'easily', 'easy', 'edge', 'editing', 'edition', 'effect', 'effective', 'effects', 'effort', 'either', 'elements', 'else', 'emotional', 'end', 'ended', 'ending', 'ends', 'english', 'enjoy', 'enjoyable', 'enjoyed', 'enough', 'entertaining', 'entertainment', 'entire', 'entirely', 'epic', 'episode', 'episodes', 'era', 'escape', 'especially', 'etc', 'even', 'even though', 'event', 'events', 'eventually', 'ever', 'ever seen', 'every', 'everyone', 'everything', 'evil', 'ex', 'exactly', 'example', 'excellent', 'except', 'exception', 'exciting', 'expect', 'expectations', 'expected', 'expecting', 'experience', 'extra', 'extras', 'extremely', 'eye', 'eyes', 'face', 'fair', 'fairly', 'fall', 'falls', 'familiar', 'family', 'famous', 'fan', 'fans', 'fantastic', 'fantasy', 'far', 'fascinating', 'fast', 'father', 'favorite', 'favorites', 'fear', 'feature', 'features', 'feel', 'feeling', 'feels', 'felt', 'female', 'fi', 'fiction', 'fight', 'fighting', 'figure', 'filled', 'film', 'filmed', 'final', 'finally', 'find', 'finding', 'finds', 'fine', 'finish', 'fire', 'fit', 'five', 'flick', 'focus', 'folks', 'follow', 'following', 'follows', 'footage', 'for', 'force', 'forced', 'forever', 'forget', 'form', 'format', 'former', 'forward', 'found', 'four', 'frank', 'free', 'french', 'fresh', 'friend', 'friends', 'from', 'front', 'full', 'fully', 'fun', 'fun watch', 'funny', 'future', 'game', 'gave', 'general', 'genius', 'genre', 'george', 'gets', 'getting', 'gift', 'girl', 'girlfriend', 'girls', 'give', 'given', 'gives', 'giving', 'glad', 'go', 'god', 'goes', 'gone', 'good', 'good job', 'good movie', 'gore', 'gorgeous', 'got', 'great', 'great job', 'great movie', 'greatest', 'green', 'group', 'growing', 'guess', 'gun', 'guy', 'guys', 'hair', 'half', 'hand', 'hands', 'happen', 'happened', 'happens', 'happy', 'hard', 'hardly', 'harry', 'hate', 'have', 'head', 'hear', 'heard', 'heart', 'heavy', 'held', 'hell', 'help', 'helps', 'hero', 'high', 'high school', 'highly', 'highly recommend', 'highly recommended', 'hilarious', 'historical', 'history', 'hit', 'hold', 'holds', 'hollywood', 'home', 'honest', 'hope', 'hoping', 'horrible', 'horror', 'hot', 'hour', 'hours', 'house', 'however', 'huge', 'human', 'humor', 'husband', 'idea', 'ideas', 'ii', 'image', 'images', 'imagine', 'immediately', 'important', 'impossible', 'impressed', 'impressive', 'in', 'include', 'included', 'includes', 'including', 'incredible', 'incredibly', 'indeed', 'information', 'inside', 'instead', 'intelligent', 'intense', 'interest', 'interested', 'interesting', 'interviews', 'involved', 'involving', 'is', 'issues', 'it', 'jack', 'james', 'japanese', 'jason', 'jim', 'job', 'john', 'jokes', 'jones', 'journey', 'just', 'justice', 'keep', 'keeps', 'kept', 'kevin', 'key', 'kid', 'kids', 'kill', 'killed', 'killer', 'killing', 'kind', 'king', 'knew', 'knowing', 'known', 'knows', 'lack', 'lady', 'land', 'language', 'large', 'last', 'late', 'later', 'laugh', 'laughing', 'laughs', 'law', 'lead', 'leading', 'leads', 'learn', 'least', 'leave', 'leaves', 'leaving', 'lee', 'left', 'less', 'let', 'level', 'life', 'light', 'like', 'liked', 'likely', 'likes', 'line', 'lines', 'list', 'literally', 'little', 'live', 'lived', 'lives', 'living', 'local', 'long', 'longer', 'look', 'looked', 'looking', 'looks', 'lost', 'lot', 'lots', 'loud', 'love', 'loved', 'lovely', 'loves', 'low', 'magic', 'main', 'major', 'makes', 'making', 'male', 'man', 'manages', 'mark', 'married', 'martin', 'mary', 'master', 'masterpiece', 'match', 'material', 'matter', 'may', 'maybe', 'mean', 'meaning', 'means', 'meant', 'meet', 'meets', 'members', 'memorable', 'memories', 'men', 'mention', 'mentioned', 'message', 'michael', 'middle', 'might', 'military', 'mind', 'minor', 'minute', 'minutes', 'miss', 'missed', 'missing', 'mix', 'mixed', 'modern', 'moment', 'moments', 'money', 'monster', 'months', 'mood', 'more', 'mostly', 'mother', 'motion', 'move', 'moves', 'movie', 'movies', 'moving', 'mr', 'much', 'much better', 'murder', 'music', 'musical', 'must', 'my', 'mysterious', 'mystery', 'name', 'named', 'natural', 'nature', 'near', 'nearly', 'need', 'needed', 'needs', 'neither', 'never', 'never seen', 'next', 'nice', 'night', 'non', 'none', 'normal', 'not', 'note', 'nothing', 'notice', 'novel', 'nudity', 'number', 'obvious', 'obviously', 'odd', 'of', 'of the', 'offer', 'offers', 'office', 'often', 'oh', 'ok', 'okay', 'older', 'on', 'one', 'one of', 'ones', 'open', 'opening', 'opinion', 'order', 'original', 'originally', 'oscar', 'others', 'otherwise', 'outside', 'outstanding', 'overall', 'pace', 'paced', 'packed', 'parents', 'part', 'particular', 'particularly', 'parts', 'party', 'pass', 'past', 'paul', 'pay', 'people', 'perfect', 'perfectly', 'performance', 'performances', 'perhaps', 'period', 'person', 'personal', 'personally', 'peter', 'pick', 'picture', 'piece', 'pieces', 'place', 'places', 'plain', 'plan', 'planet', 'play', 'played', 'player', 'playing', 'plays', 'please', 'plenty', 'plot', 'plus', 'point', 'points', 'police', 'political', 'poor', 'pop', 'popular', 'portrayal', 'portrayed', 'possible', 'possibly', 'post', 'potential', 'power', 'powerful', 'pre', 'predictable', 'premise', 'presence', 'present', 'presented', 'pretty', 'pretty good', 'pretty much', 'previous', 'price', 'probably', 'problem', 'problems', 'process', 'produced', 'producers', 'product', 'production', 'provide', 'provides', 'public', 'pull', 'purchase', 'purchased', 'pure', 'put', 'puts', 'quality', 'question', 'questions', 'quick', 'quickly', 'quite', 'quot', 'rare', 'rate', 'rated', 'rather', 'rating', 'ray', 'read', 'reading', 'ready', 'real', 'real life', 'realistic', 'reality', 'realize', 'reason', 'reasons', 'received', 'recent', 'recently', 'recommend', 'recommended', 'red', 'relationship', 'release', 'released', 'remains', 'remake', 'remember', 'rent', 'respect', 'rest', 'result', 'return', 'returns', 'revenge', 'review', 'reviewers', 'reviews', 'rich', 'richard', 'ride', 'ridiculous', 'right', 'road', 'robert', 'rock', 'role', 'roles', 'romance', 'romantic', 'room', 'run', 'running', 'runs', 'sad', 'sadly', 'said', 'sam', 'save', 'saw', 'say', 'saying', 'says', 'scary', 'scene', 'scenery', 'scenes', 'school', 'sci', 'sci fi', 'science', 'score', 'scott', 'screen', 'screenplay', 'script', 'season', 'seasons', 'seat', 'secret', 'seeing', 'seem', 'seemed', 'seems', 'seen', 'sees', 'self', 'sense', 'sent', 'sequel', 'sequence', 'sequences', 'series', 'serious', 'seriously', 'set', 'sets', 'setting', 'several', 'sex', 'sexual', 'shame', 'share', 'short', 'shot', 'shots', 'show', 'showing', 'shown', 'shows', 'side', 'silly', 'similar', 'simple', 'simply', 'singing', 'single', 'sister', 'sit', 'situation', 'situations', 'six', 'slightly', 'slow', 'slowly', 'small', 'smart', 'smith', 'so', 'social', 'society', 'solid', 'somehow', 'someone', 'something', 'sometimes', 'somewhat', 'son', 'song', 'songs', 'soon', 'sorry', 'sort', 'soul', 'sound', 'sounds', 'soundtrack', 'space', 'speak', 'special', 'special effects', 'special features', 'spectacular', 'spend', 'spent', 'spirit', 'stage', 'stand', 'standard', 'stands', 'star', 'starring', 'stars', 'start', 'started', 'starts', 'state', 'stay', 'step', 'steve', 'still', 'stop', 'store', 'stories', 'story', 'storyline', 'straight', 'strange', 'street', 'strong', 'studio', 'stuff', 'stunning', 'stupid', 'style', 'subject', 'subtitles', 'subtle', 'success', 'successful', 'summer', 'super', 'superb', 'supporting', 'supposed', 'sure', 'surprise', 'surprised', 'surprisingly', 'suspense', 'sweet', 'system', 'taken', 'takes', 'taking', 'tale', 'talent', 'talented', 'talk', 'talking', 'team', 'television', 'tell', 'telling', 'tells', 'ten', 'tension', 'terms', 'terrible', 'terrific', 'than', 'thank', 'thanks', 'that', 'the', 'the best', 'theater', 'theatrical', 'theme', 'themes', 'thing', 'things', 'thinking', 'thinks', 'third', 'this', 'this movie', 'though', 'thought', 'three', 'thriller', 'throughout', 'thus', 'time', 'times', 'tired', 'title', 'to', 'today', 'together', 'told', 'tom', 'tone', 'took', 'top', 'total', 'totally', 'touch', 'touching', 'tough', 'towards', 'town', 'track', 'trailer', 'transfer', 'treat', 'tried', 'tries', 'trip', 'trouble', 'true', 'truly', 'truth', 'try', 'trying', 'turn', 'turned', 'turns', 'tv', 'twice', 'twist', 'twists', 'two', 'type', 'typical', 'ultimate', 'ultimately', 'understand', 'unfortunately', 'unique', 'unless', 'unlike', 'upon', 'us', 'use', 'used', 'uses', 'using', 'usual', 'usually', 'value', 'various', 'version', 'versions', 'very', 'vhs', 'video', 'view', 'viewer', 'viewers', 'viewing', 'villain', 'violence', 'violent', 'visual', 'voice', 'vs', 'wait', 'waiting', 'walk', 'want', 'wanted', 'wanting', 'wants', 'war', 'wars', 'was', 'waste', 'watch', 'watched', 'watching', 'water', 'ways', 'weak', 'week', 'weird', 'well', 'well done', 'well worth', 'went', 'west', 'western', 'what', 'whatever', 'whether', 'white', 'whole', 'whose', 'widescreen', 'wife', 'wild', 'william', 'win', 'wish', 'with', 'within', 'without', 'woman', 'women', 'wonder', 'wonderful', 'word', 'words', 'work', 'worked', 'working', 'works', 'world', 'worse', 'worst', 'worth', 'worth watching', 'worthy', 'would', 'would recommend', 'wow', 'write', 'writer', 'writers', 'writing', 'written', 'wrong', 'wrote', 'yeah', 'year', 'years', 'years ago', 'years later', 'yes', 'yet', 'york', 'you', 'young', 'younger', 'Month', 'Year', 'Helpful', 'Unhelpful', 'ExclaimationCount', 'QuestionCount', 'AllCapsCount', 'WordCount', 'UniqueWords', 'SummarySentiment', 'CleanedTextSentiment', 'ProductAvgScore', 'UserAvgScore', 'ProductPopularity', 'UserPopularity']\n"
     ]
    }
   ],
   "source": [
    "print(X_train_full.columns.tolist())"
   ]
  },
  {
   "cell_type": "code",
   "execution_count": 216,
   "metadata": {},
   "outputs": [],
   "source": [
    "five_star_words = [\n",
    "    'amazing', 'fantastic', 'wonderful', 'excellent', 'perfect', \n",
    "    'great', 'awesome', 'brilliant', 'best', 'incredible', 'masterpiece', 'superb', 'loved'\n",
    "]\n",
    "\n",
    "four_star_words = [\n",
    "    'good', 'enjoyable', 'like', 'satisfied', 'pretty good', \n",
    "    'impressive', 'recommended', 'solid', 'well', 'memorable'\n",
    "]\n",
    "\n",
    "three_star_words = [\n",
    "    'average', 'decent', 'okay', 'fine', 'fair', 'standard', \n",
    "    'nothing special', 'expected', 'mediocre', 'ok', 'okay'\n",
    "]\n",
    "\n",
    "two_star_words = [\n",
    "    'disappointed', 'boring', 'slow', 'dull', 'forgettable', \n",
    "    'underwhelming', 'poor', 'weak', 'unimpressive', \n",
    "    'predictable', 'annoying', 'cheap', 'forced', 'problem',\n",
    "    'basic'\n",
    "]\n",
    "\n",
    "one_star_words = [\n",
    "    'worst', 'terrible', 'horrible', 'awful', 'waste', 'disgusting', \n",
    "    'disaster', 'hate', 'unwatchable', 'bad', 'trash'\n",
    "]"
   ]
  },
  {
   "cell_type": "code",
   "execution_count": 217,
   "metadata": {},
   "outputs": [],
   "source": [
    "five_star_col = [col for col in X_train_full_new_features.columns if col in five_star_words]\n",
    "four_star_col = [col for col in X_train_full_new_features.columns if col in four_star_words]\n",
    "three_star_col = [col for col in X_train_full_new_features.columns if col in three_star_words]\n",
    "two_star_col = [col for col in X_train_full_new_features.columns if col in two_star_words]\n",
    "one_star_col = [col for col in X_train_full_new_features.columns if col in one_star_words]"
   ]
  },
  {
   "cell_type": "code",
   "execution_count": 220,
   "metadata": {},
   "outputs": [],
   "source": [
    "X_train_full_new_features['five_star_words'] = X_train_full[five_star_col].sum(axis=1)\n",
    "X_train_full_new_features=X_train_full_new_features.drop(columns=five_star_col, axis=1)\n",
    "\n",
    "X_train_full_new_features['four_star_words'] = X_train_full[four_star_col].sum(axis=1)\n",
    "X_train_full_new_features=X_train_full_new_features.drop(columns=four_star_col, axis=1)\n",
    "\n",
    "X_train_full_new_features['three_star_words'] = X_train_full[three_star_col].sum(axis=1)\n",
    "X_train_full_new_features=X_train_full_new_features.drop(columns=three_star_col, axis=1)\n",
    "\n",
    "X_train_full_new_features['two_star_words'] = X_train_full[two_star_col].sum(axis=1)\n",
    "X_train_full_new_features=X_train_full_new_features.drop(columns=two_star_col, axis=1)\n",
    "\n",
    "X_train_full_new_features['one_star_words'] = X_train_full[one_star_col].sum(axis=1)\n",
    "X_train_full_new_features=X_train_full_new_features.drop(columns=one_star_col, axis=1)"
   ]
  },
  {
   "cell_type": "code",
   "execution_count": 230,
   "metadata": {},
   "outputs": [],
   "source": [
    "X_test_full_new_features = X_test_full.copy()"
   ]
  },
  {
   "cell_type": "code",
   "execution_count": 228,
   "metadata": {},
   "outputs": [],
   "source": [
    "submission_new_features = submission.copy()"
   ]
  },
  {
   "cell_type": "code",
   "execution_count": 231,
   "metadata": {},
   "outputs": [],
   "source": [
    "X_test_full_new_features['five_star_words'] = X_test_full[five_star_col].sum(axis=1)\n",
    "X_test_full_new_features=X_test_full_new_features.drop(columns=five_star_col, axis=1)\n",
    "\n",
    "X_test_full_new_features['four_star_words'] = X_test_full[four_star_col].sum(axis=1)\n",
    "X_test_full_new_features=X_test_full_new_features.drop(columns=four_star_col, axis=1)\n",
    "\n",
    "X_test_full_new_features['three_star_words'] = X_test_full[three_star_col].sum(axis=1)\n",
    "X_test_full_new_features=X_test_full_new_features.drop(columns=three_star_col, axis=1)\n",
    "\n",
    "X_test_full_new_features['two_star_words'] = X_test_full[two_star_col].sum(axis=1)\n",
    "X_test_full_new_features=X_test_full_new_features.drop(columns=two_star_col, axis=1)\n",
    "\n",
    "X_test_full_new_features['one_star_words'] = X_test_full[one_star_col].sum(axis=1)\n",
    "X_test_full_new_features=X_test_full_new_features.drop(columns=one_star_col, axis=1)\n",
    "# ===== #\n",
    "submission_new_features['five_star_words'] = submission[five_star_col].sum(axis=1)\n",
    "submission_new_features=submission_new_features.drop(columns=five_star_col, axis=1)\n",
    "\n",
    "submission_new_features['four_star_words'] = submission[four_star_col].sum(axis=1)\n",
    "submission_new_features=submission_new_features.drop(columns=four_star_col, axis=1)\n",
    "\n",
    "submission_new_features['three_star_words'] = submission[three_star_col].sum(axis=1)\n",
    "submission_new_features=submission_new_features.drop(columns=three_star_col, axis=1)\n",
    "\n",
    "submission_new_features['two_star_words'] = submission[two_star_col].sum(axis=1)\n",
    "submission_new_features=submission_new_features.drop(columns=two_star_col, axis=1)\n",
    "\n",
    "submission_new_features['one_star_words'] = submission[one_star_col].sum(axis=1)\n",
    "submission_new_features=submission_new_features.drop(columns=one_star_col, axis=1)"
   ]
  },
  {
   "cell_type": "markdown",
   "metadata": {},
   "source": [
    "## **IMPORTANT!!!! XGBoost classes (y) start at 0**\n",
    "REMEMBER TO +1 TO THE FINAL SUBMISSION!!!!!!!"
   ]
  },
  {
   "cell_type": "code",
   "execution_count": 256,
   "metadata": {},
   "outputs": [],
   "source": [
    "y_train_full=y_train_full-1"
   ]
  },
  {
   "cell_type": "code",
   "execution_count": 257,
   "metadata": {},
   "outputs": [],
   "source": [
    "# EVALUATION FUNCTION\n",
    "import matplotlib.pyplot as plt\n",
    "import seaborn as sns\n",
    "from sklearn.metrics import confusion_matrix, accuracy_score\n",
    "from collections import Counter\n",
    "\n",
    "def evaluate(y_pred):\n",
    "    accuracy = accuracy_score(y_test, y_pred) * 100\n",
    "    \n",
    "    cm = confusion_matrix(y_test, y_pred)\n",
    "    cm_percent = cm.astype('float') / cm.sum(axis=1)[:, np.newaxis] * 100\n",
    "\n",
    "    plt.figure(figsize=(5, 5))\n",
    "    sns.heatmap(cm_percent, annot=True, fmt=\".2f\", cmap=\"Blues\", cbar=False,\n",
    "                annot_kws={\"size\": 10}, square=True)    \n",
    "    plt.xlabel(\"Predicted Labels\")\n",
    "    plt.ylabel(\"True Labels\")\n",
    "    plt.title(\"Confusion Matrix\")\n",
    "    plt.show()\n",
    "    \n",
    "    print(f\"Accuracy: {accuracy:.2f}%\")\n",
    "    print(f\"prediction set: {Counter(y_pred)}\")"
   ]
  },
  {
   "cell_type": "markdown",
   "metadata": {},
   "source": [
    "## Hyperparameter Tuning\n",
    "WARNING: This will probably take 3+ hours"
   ]
  },
  {
   "cell_type": "code",
   "execution_count": null,
   "metadata": {},
   "outputs": [
    {
     "name": "stdout",
     "output_type": "stream",
     "text": [
      "Fitting 5 folds for each of 40 candidates, totalling 200 fits\n",
      "Best Parameters:  {'subsample': 0.8, 'n_estimators': 300, 'min_child_weight': 8, 'max_depth': 8, 'learning_rate': 0.2, 'gamma': 0.5, 'colsample_bytree': 0.8}\n",
      "Best Score:  0.5078269302428732\n"
     ]
    }
   ],
   "source": [
    "from xgboost import XGBClassifier\n",
    "from sklearn.model_selection import RandomizedSearchCV\n",
    "\n",
    "# Define your initial model\n",
    "model = XGBClassifier(\n",
    "    objective='multi:softmax',\n",
    "    learning_rate=0.1,\n",
    "    n_estimators=100,\n",
    "    subsample=0.8,\n",
    "    colsample_bytree=0.8,\n",
    "    num_class=5,\n",
    "    booster='gbtree',\n",
    "    random_state=123\n",
    ")\n",
    "\n",
    "param_dist = {\n",
    "    'max_depth': range(4, 16), \n",
    "    'min_child_weight': range(1, 10),\n",
    "    'gamma': [0, 0.1, 0.2, 0.3, 0.4, 0.5],\n",
    "    'learning_rate': [0.01, 0.05, 0.1, 0.2],\n",
    "    'n_estimators': [100, 150, 200, 250, 300],\n",
    "    'subsample': [0.6, 0.87, 0.8, 0.9],\n",
    "    'colsample_bytree': [0.6, 0.7, 0.8, 0.9]\n",
    "}\n",
    "\n",
    "# RandomizedSearchCV setup\n",
    "random_search = RandomizedSearchCV(\n",
    "    estimator=model,\n",
    "    param_distributions=param_dist,\n",
    "    n_iter=40,\n",
    "    scoring='balanced_accuracy',\n",
    "    cv=5,\n",
    "    random_state=123,\n",
    "    verbose=1\n",
    ")\n",
    "\n",
    "# Fit on a subset of data for speed\n",
    "random_search.fit(X_train_full[:50_000], y_train_full[:50_000])\n",
    "\n",
    "print(\"Best Parameters: \", random_search.best_params_)\n",
    "print(\"Best Score: \", random_search.best_score_)\n"
   ]
  },
  {
   "cell_type": "markdown",
   "metadata": {},
   "source": [
    "## Apply Model"
   ]
  },
  {
   "cell_type": "code",
   "execution_count": 258,
   "metadata": {},
   "outputs": [],
   "source": [
    "# Best Parameters:  {'subsample': 0.8, 'n_estimators': 300, 'min_child_weight': 8, 'max_depth': 8, 'learning_rate': 0.2, 'gamma': 0.5, 'colsample_bytree': 0.8}\n",
    "\n",
    "model = XGBClassifier(\n",
    "    objective='multi:softmax',\n",
    "    learning_rate=0.2,\n",
    "    n_estimators=300,\n",
    "    min_child_weight = 8,\n",
    "    max_depth = 8,\n",
    "    gamma=0.5,\n",
    "    subsample=0.8,\n",
    "    colsample_bytree=0.8,\n",
    "    num_class=5,\n",
    "    booster='gbtree',\n",
    "    random_state=123,\n",
    "    n_jobs = -1\n",
    "    )"
   ]
  },
  {
   "cell_type": "code",
   "execution_count": 263,
   "metadata": {},
   "outputs": [],
   "source": [
    "# Oops, forgot to drop these earlier\n",
    "columns_to_drop = ['ProductId', 'UserId', 'Summary', 'Text', 'LemmatizedSummary', 'LemmatizedCleanedText', 'TextCleaned']\n",
    "X_train_full.drop(columns=columns_to_drop, axis=1,inplace=True)\n",
    "X_test_full.drop(columns=columns_to_drop, axis=1,inplace=True)\n",
    "submission.drop(columns=columns_to_drop + ['Words', 'Id'], axis=1,inplace=True)"
   ]
  },
  {
   "cell_type": "code",
   "execution_count": 264,
   "metadata": {},
   "outputs": [
    {
     "data": {
      "text/html": [
       "<style>#sk-container-id-9 {\n",
       "  /* Definition of color scheme common for light and dark mode */\n",
       "  --sklearn-color-text: black;\n",
       "  --sklearn-color-line: gray;\n",
       "  /* Definition of color scheme for unfitted estimators */\n",
       "  --sklearn-color-unfitted-level-0: #fff5e6;\n",
       "  --sklearn-color-unfitted-level-1: #f6e4d2;\n",
       "  --sklearn-color-unfitted-level-2: #ffe0b3;\n",
       "  --sklearn-color-unfitted-level-3: chocolate;\n",
       "  /* Definition of color scheme for fitted estimators */\n",
       "  --sklearn-color-fitted-level-0: #f0f8ff;\n",
       "  --sklearn-color-fitted-level-1: #d4ebff;\n",
       "  --sklearn-color-fitted-level-2: #b3dbfd;\n",
       "  --sklearn-color-fitted-level-3: cornflowerblue;\n",
       "\n",
       "  /* Specific color for light theme */\n",
       "  --sklearn-color-text-on-default-background: var(--sg-text-color, var(--theme-code-foreground, var(--jp-content-font-color1, black)));\n",
       "  --sklearn-color-background: var(--sg-background-color, var(--theme-background, var(--jp-layout-color0, white)));\n",
       "  --sklearn-color-border-box: var(--sg-text-color, var(--theme-code-foreground, var(--jp-content-font-color1, black)));\n",
       "  --sklearn-color-icon: #696969;\n",
       "\n",
       "  @media (prefers-color-scheme: dark) {\n",
       "    /* Redefinition of color scheme for dark theme */\n",
       "    --sklearn-color-text-on-default-background: var(--sg-text-color, var(--theme-code-foreground, var(--jp-content-font-color1, white)));\n",
       "    --sklearn-color-background: var(--sg-background-color, var(--theme-background, var(--jp-layout-color0, #111)));\n",
       "    --sklearn-color-border-box: var(--sg-text-color, var(--theme-code-foreground, var(--jp-content-font-color1, white)));\n",
       "    --sklearn-color-icon: #878787;\n",
       "  }\n",
       "}\n",
       "\n",
       "#sk-container-id-9 {\n",
       "  color: var(--sklearn-color-text);\n",
       "}\n",
       "\n",
       "#sk-container-id-9 pre {\n",
       "  padding: 0;\n",
       "}\n",
       "\n",
       "#sk-container-id-9 input.sk-hidden--visually {\n",
       "  border: 0;\n",
       "  clip: rect(1px 1px 1px 1px);\n",
       "  clip: rect(1px, 1px, 1px, 1px);\n",
       "  height: 1px;\n",
       "  margin: -1px;\n",
       "  overflow: hidden;\n",
       "  padding: 0;\n",
       "  position: absolute;\n",
       "  width: 1px;\n",
       "}\n",
       "\n",
       "#sk-container-id-9 div.sk-dashed-wrapped {\n",
       "  border: 1px dashed var(--sklearn-color-line);\n",
       "  margin: 0 0.4em 0.5em 0.4em;\n",
       "  box-sizing: border-box;\n",
       "  padding-bottom: 0.4em;\n",
       "  background-color: var(--sklearn-color-background);\n",
       "}\n",
       "\n",
       "#sk-container-id-9 div.sk-container {\n",
       "  /* jupyter's `normalize.less` sets `[hidden] { display: none; }`\n",
       "     but bootstrap.min.css set `[hidden] { display: none !important; }`\n",
       "     so we also need the `!important` here to be able to override the\n",
       "     default hidden behavior on the sphinx rendered scikit-learn.org.\n",
       "     See: https://github.com/scikit-learn/scikit-learn/issues/21755 */\n",
       "  display: inline-block !important;\n",
       "  position: relative;\n",
       "}\n",
       "\n",
       "#sk-container-id-9 div.sk-text-repr-fallback {\n",
       "  display: none;\n",
       "}\n",
       "\n",
       "div.sk-parallel-item,\n",
       "div.sk-serial,\n",
       "div.sk-item {\n",
       "  /* draw centered vertical line to link estimators */\n",
       "  background-image: linear-gradient(var(--sklearn-color-text-on-default-background), var(--sklearn-color-text-on-default-background));\n",
       "  background-size: 2px 100%;\n",
       "  background-repeat: no-repeat;\n",
       "  background-position: center center;\n",
       "}\n",
       "\n",
       "/* Parallel-specific style estimator block */\n",
       "\n",
       "#sk-container-id-9 div.sk-parallel-item::after {\n",
       "  content: \"\";\n",
       "  width: 100%;\n",
       "  border-bottom: 2px solid var(--sklearn-color-text-on-default-background);\n",
       "  flex-grow: 1;\n",
       "}\n",
       "\n",
       "#sk-container-id-9 div.sk-parallel {\n",
       "  display: flex;\n",
       "  align-items: stretch;\n",
       "  justify-content: center;\n",
       "  background-color: var(--sklearn-color-background);\n",
       "  position: relative;\n",
       "}\n",
       "\n",
       "#sk-container-id-9 div.sk-parallel-item {\n",
       "  display: flex;\n",
       "  flex-direction: column;\n",
       "}\n",
       "\n",
       "#sk-container-id-9 div.sk-parallel-item:first-child::after {\n",
       "  align-self: flex-end;\n",
       "  width: 50%;\n",
       "}\n",
       "\n",
       "#sk-container-id-9 div.sk-parallel-item:last-child::after {\n",
       "  align-self: flex-start;\n",
       "  width: 50%;\n",
       "}\n",
       "\n",
       "#sk-container-id-9 div.sk-parallel-item:only-child::after {\n",
       "  width: 0;\n",
       "}\n",
       "\n",
       "/* Serial-specific style estimator block */\n",
       "\n",
       "#sk-container-id-9 div.sk-serial {\n",
       "  display: flex;\n",
       "  flex-direction: column;\n",
       "  align-items: center;\n",
       "  background-color: var(--sklearn-color-background);\n",
       "  padding-right: 1em;\n",
       "  padding-left: 1em;\n",
       "}\n",
       "\n",
       "\n",
       "/* Toggleable style: style used for estimator/Pipeline/ColumnTransformer box that is\n",
       "clickable and can be expanded/collapsed.\n",
       "- Pipeline and ColumnTransformer use this feature and define the default style\n",
       "- Estimators will overwrite some part of the style using the `sk-estimator` class\n",
       "*/\n",
       "\n",
       "/* Pipeline and ColumnTransformer style (default) */\n",
       "\n",
       "#sk-container-id-9 div.sk-toggleable {\n",
       "  /* Default theme specific background. It is overwritten whether we have a\n",
       "  specific estimator or a Pipeline/ColumnTransformer */\n",
       "  background-color: var(--sklearn-color-background);\n",
       "}\n",
       "\n",
       "/* Toggleable label */\n",
       "#sk-container-id-9 label.sk-toggleable__label {\n",
       "  cursor: pointer;\n",
       "  display: block;\n",
       "  width: 100%;\n",
       "  margin-bottom: 0;\n",
       "  padding: 0.5em;\n",
       "  box-sizing: border-box;\n",
       "  text-align: center;\n",
       "}\n",
       "\n",
       "#sk-container-id-9 label.sk-toggleable__label-arrow:before {\n",
       "  /* Arrow on the left of the label */\n",
       "  content: \"▸\";\n",
       "  float: left;\n",
       "  margin-right: 0.25em;\n",
       "  color: var(--sklearn-color-icon);\n",
       "}\n",
       "\n",
       "#sk-container-id-9 label.sk-toggleable__label-arrow:hover:before {\n",
       "  color: var(--sklearn-color-text);\n",
       "}\n",
       "\n",
       "/* Toggleable content - dropdown */\n",
       "\n",
       "#sk-container-id-9 div.sk-toggleable__content {\n",
       "  max-height: 0;\n",
       "  max-width: 0;\n",
       "  overflow: hidden;\n",
       "  text-align: left;\n",
       "  /* unfitted */\n",
       "  background-color: var(--sklearn-color-unfitted-level-0);\n",
       "}\n",
       "\n",
       "#sk-container-id-9 div.sk-toggleable__content.fitted {\n",
       "  /* fitted */\n",
       "  background-color: var(--sklearn-color-fitted-level-0);\n",
       "}\n",
       "\n",
       "#sk-container-id-9 div.sk-toggleable__content pre {\n",
       "  margin: 0.2em;\n",
       "  border-radius: 0.25em;\n",
       "  color: var(--sklearn-color-text);\n",
       "  /* unfitted */\n",
       "  background-color: var(--sklearn-color-unfitted-level-0);\n",
       "}\n",
       "\n",
       "#sk-container-id-9 div.sk-toggleable__content.fitted pre {\n",
       "  /* unfitted */\n",
       "  background-color: var(--sklearn-color-fitted-level-0);\n",
       "}\n",
       "\n",
       "#sk-container-id-9 input.sk-toggleable__control:checked~div.sk-toggleable__content {\n",
       "  /* Expand drop-down */\n",
       "  max-height: 200px;\n",
       "  max-width: 100%;\n",
       "  overflow: auto;\n",
       "}\n",
       "\n",
       "#sk-container-id-9 input.sk-toggleable__control:checked~label.sk-toggleable__label-arrow:before {\n",
       "  content: \"▾\";\n",
       "}\n",
       "\n",
       "/* Pipeline/ColumnTransformer-specific style */\n",
       "\n",
       "#sk-container-id-9 div.sk-label input.sk-toggleable__control:checked~label.sk-toggleable__label {\n",
       "  color: var(--sklearn-color-text);\n",
       "  background-color: var(--sklearn-color-unfitted-level-2);\n",
       "}\n",
       "\n",
       "#sk-container-id-9 div.sk-label.fitted input.sk-toggleable__control:checked~label.sk-toggleable__label {\n",
       "  background-color: var(--sklearn-color-fitted-level-2);\n",
       "}\n",
       "\n",
       "/* Estimator-specific style */\n",
       "\n",
       "/* Colorize estimator box */\n",
       "#sk-container-id-9 div.sk-estimator input.sk-toggleable__control:checked~label.sk-toggleable__label {\n",
       "  /* unfitted */\n",
       "  background-color: var(--sklearn-color-unfitted-level-2);\n",
       "}\n",
       "\n",
       "#sk-container-id-9 div.sk-estimator.fitted input.sk-toggleable__control:checked~label.sk-toggleable__label {\n",
       "  /* fitted */\n",
       "  background-color: var(--sklearn-color-fitted-level-2);\n",
       "}\n",
       "\n",
       "#sk-container-id-9 div.sk-label label.sk-toggleable__label,\n",
       "#sk-container-id-9 div.sk-label label {\n",
       "  /* The background is the default theme color */\n",
       "  color: var(--sklearn-color-text-on-default-background);\n",
       "}\n",
       "\n",
       "/* On hover, darken the color of the background */\n",
       "#sk-container-id-9 div.sk-label:hover label.sk-toggleable__label {\n",
       "  color: var(--sklearn-color-text);\n",
       "  background-color: var(--sklearn-color-unfitted-level-2);\n",
       "}\n",
       "\n",
       "/* Label box, darken color on hover, fitted */\n",
       "#sk-container-id-9 div.sk-label.fitted:hover label.sk-toggleable__label.fitted {\n",
       "  color: var(--sklearn-color-text);\n",
       "  background-color: var(--sklearn-color-fitted-level-2);\n",
       "}\n",
       "\n",
       "/* Estimator label */\n",
       "\n",
       "#sk-container-id-9 div.sk-label label {\n",
       "  font-family: monospace;\n",
       "  font-weight: bold;\n",
       "  display: inline-block;\n",
       "  line-height: 1.2em;\n",
       "}\n",
       "\n",
       "#sk-container-id-9 div.sk-label-container {\n",
       "  text-align: center;\n",
       "}\n",
       "\n",
       "/* Estimator-specific */\n",
       "#sk-container-id-9 div.sk-estimator {\n",
       "  font-family: monospace;\n",
       "  border: 1px dotted var(--sklearn-color-border-box);\n",
       "  border-radius: 0.25em;\n",
       "  box-sizing: border-box;\n",
       "  margin-bottom: 0.5em;\n",
       "  /* unfitted */\n",
       "  background-color: var(--sklearn-color-unfitted-level-0);\n",
       "}\n",
       "\n",
       "#sk-container-id-9 div.sk-estimator.fitted {\n",
       "  /* fitted */\n",
       "  background-color: var(--sklearn-color-fitted-level-0);\n",
       "}\n",
       "\n",
       "/* on hover */\n",
       "#sk-container-id-9 div.sk-estimator:hover {\n",
       "  /* unfitted */\n",
       "  background-color: var(--sklearn-color-unfitted-level-2);\n",
       "}\n",
       "\n",
       "#sk-container-id-9 div.sk-estimator.fitted:hover {\n",
       "  /* fitted */\n",
       "  background-color: var(--sklearn-color-fitted-level-2);\n",
       "}\n",
       "\n",
       "/* Specification for estimator info (e.g. \"i\" and \"?\") */\n",
       "\n",
       "/* Common style for \"i\" and \"?\" */\n",
       "\n",
       ".sk-estimator-doc-link,\n",
       "a:link.sk-estimator-doc-link,\n",
       "a:visited.sk-estimator-doc-link {\n",
       "  float: right;\n",
       "  font-size: smaller;\n",
       "  line-height: 1em;\n",
       "  font-family: monospace;\n",
       "  background-color: var(--sklearn-color-background);\n",
       "  border-radius: 1em;\n",
       "  height: 1em;\n",
       "  width: 1em;\n",
       "  text-decoration: none !important;\n",
       "  margin-left: 1ex;\n",
       "  /* unfitted */\n",
       "  border: var(--sklearn-color-unfitted-level-1) 1pt solid;\n",
       "  color: var(--sklearn-color-unfitted-level-1);\n",
       "}\n",
       "\n",
       ".sk-estimator-doc-link.fitted,\n",
       "a:link.sk-estimator-doc-link.fitted,\n",
       "a:visited.sk-estimator-doc-link.fitted {\n",
       "  /* fitted */\n",
       "  border: var(--sklearn-color-fitted-level-1) 1pt solid;\n",
       "  color: var(--sklearn-color-fitted-level-1);\n",
       "}\n",
       "\n",
       "/* On hover */\n",
       "div.sk-estimator:hover .sk-estimator-doc-link:hover,\n",
       ".sk-estimator-doc-link:hover,\n",
       "div.sk-label-container:hover .sk-estimator-doc-link:hover,\n",
       ".sk-estimator-doc-link:hover {\n",
       "  /* unfitted */\n",
       "  background-color: var(--sklearn-color-unfitted-level-3);\n",
       "  color: var(--sklearn-color-background);\n",
       "  text-decoration: none;\n",
       "}\n",
       "\n",
       "div.sk-estimator.fitted:hover .sk-estimator-doc-link.fitted:hover,\n",
       ".sk-estimator-doc-link.fitted:hover,\n",
       "div.sk-label-container:hover .sk-estimator-doc-link.fitted:hover,\n",
       ".sk-estimator-doc-link.fitted:hover {\n",
       "  /* fitted */\n",
       "  background-color: var(--sklearn-color-fitted-level-3);\n",
       "  color: var(--sklearn-color-background);\n",
       "  text-decoration: none;\n",
       "}\n",
       "\n",
       "/* Span, style for the box shown on hovering the info icon */\n",
       ".sk-estimator-doc-link span {\n",
       "  display: none;\n",
       "  z-index: 9999;\n",
       "  position: relative;\n",
       "  font-weight: normal;\n",
       "  right: .2ex;\n",
       "  padding: .5ex;\n",
       "  margin: .5ex;\n",
       "  width: min-content;\n",
       "  min-width: 20ex;\n",
       "  max-width: 50ex;\n",
       "  color: var(--sklearn-color-text);\n",
       "  box-shadow: 2pt 2pt 4pt #999;\n",
       "  /* unfitted */\n",
       "  background: var(--sklearn-color-unfitted-level-0);\n",
       "  border: .5pt solid var(--sklearn-color-unfitted-level-3);\n",
       "}\n",
       "\n",
       ".sk-estimator-doc-link.fitted span {\n",
       "  /* fitted */\n",
       "  background: var(--sklearn-color-fitted-level-0);\n",
       "  border: var(--sklearn-color-fitted-level-3);\n",
       "}\n",
       "\n",
       ".sk-estimator-doc-link:hover span {\n",
       "  display: block;\n",
       "}\n",
       "\n",
       "/* \"?\"-specific style due to the `<a>` HTML tag */\n",
       "\n",
       "#sk-container-id-9 a.estimator_doc_link {\n",
       "  float: right;\n",
       "  font-size: 1rem;\n",
       "  line-height: 1em;\n",
       "  font-family: monospace;\n",
       "  background-color: var(--sklearn-color-background);\n",
       "  border-radius: 1rem;\n",
       "  height: 1rem;\n",
       "  width: 1rem;\n",
       "  text-decoration: none;\n",
       "  /* unfitted */\n",
       "  color: var(--sklearn-color-unfitted-level-1);\n",
       "  border: var(--sklearn-color-unfitted-level-1) 1pt solid;\n",
       "}\n",
       "\n",
       "#sk-container-id-9 a.estimator_doc_link.fitted {\n",
       "  /* fitted */\n",
       "  border: var(--sklearn-color-fitted-level-1) 1pt solid;\n",
       "  color: var(--sklearn-color-fitted-level-1);\n",
       "}\n",
       "\n",
       "/* On hover */\n",
       "#sk-container-id-9 a.estimator_doc_link:hover {\n",
       "  /* unfitted */\n",
       "  background-color: var(--sklearn-color-unfitted-level-3);\n",
       "  color: var(--sklearn-color-background);\n",
       "  text-decoration: none;\n",
       "}\n",
       "\n",
       "#sk-container-id-9 a.estimator_doc_link.fitted:hover {\n",
       "  /* fitted */\n",
       "  background-color: var(--sklearn-color-fitted-level-3);\n",
       "}\n",
       "</style><div id=\"sk-container-id-9\" class=\"sk-top-container\"><div class=\"sk-text-repr-fallback\"><pre>XGBClassifier(base_score=None, booster=&#x27;gbtree&#x27;, callbacks=None,\n",
       "              colsample_bylevel=None, colsample_bynode=None,\n",
       "              colsample_bytree=0.8, device=None, early_stopping_rounds=None,\n",
       "              enable_categorical=False, eval_metric=None, feature_types=None,\n",
       "              gamma=0.5, grow_policy=None, importance_type=None,\n",
       "              interaction_constraints=None, learning_rate=0.2, max_bin=None,\n",
       "              max_cat_threshold=None, max_cat_to_onehot=None,\n",
       "              max_delta_step=None, max_depth=8, max_leaves=None,\n",
       "              min_child_weight=8, missing=nan, monotone_constraints=None,\n",
       "              multi_strategy=None, n_estimators=300, n_jobs=-1, num_class=5,\n",
       "              num_parallel_tree=None, ...)</pre><b>In a Jupyter environment, please rerun this cell to show the HTML representation or trust the notebook. <br />On GitHub, the HTML representation is unable to render, please try loading this page with nbviewer.org.</b></div><div class=\"sk-container\" hidden><div class=\"sk-item\"><div class=\"sk-estimator fitted sk-toggleable\"><input class=\"sk-toggleable__control sk-hidden--visually\" id=\"sk-estimator-id-9\" type=\"checkbox\" checked><label for=\"sk-estimator-id-9\" class=\"sk-toggleable__label fitted sk-toggleable__label-arrow fitted\">&nbsp;XGBClassifier<span class=\"sk-estimator-doc-link fitted\">i<span>Fitted</span></span></label><div class=\"sk-toggleable__content fitted\"><pre>XGBClassifier(base_score=None, booster=&#x27;gbtree&#x27;, callbacks=None,\n",
       "              colsample_bylevel=None, colsample_bynode=None,\n",
       "              colsample_bytree=0.8, device=None, early_stopping_rounds=None,\n",
       "              enable_categorical=False, eval_metric=None, feature_types=None,\n",
       "              gamma=0.5, grow_policy=None, importance_type=None,\n",
       "              interaction_constraints=None, learning_rate=0.2, max_bin=None,\n",
       "              max_cat_threshold=None, max_cat_to_onehot=None,\n",
       "              max_delta_step=None, max_depth=8, max_leaves=None,\n",
       "              min_child_weight=8, missing=nan, monotone_constraints=None,\n",
       "              multi_strategy=None, n_estimators=300, n_jobs=-1, num_class=5,\n",
       "              num_parallel_tree=None, ...)</pre></div> </div></div></div></div>"
      ],
      "text/plain": [
       "XGBClassifier(base_score=None, booster='gbtree', callbacks=None,\n",
       "              colsample_bylevel=None, colsample_bynode=None,\n",
       "              colsample_bytree=0.8, device=None, early_stopping_rounds=None,\n",
       "              enable_categorical=False, eval_metric=None, feature_types=None,\n",
       "              gamma=0.5, grow_policy=None, importance_type=None,\n",
       "              interaction_constraints=None, learning_rate=0.2, max_bin=None,\n",
       "              max_cat_threshold=None, max_cat_to_onehot=None,\n",
       "              max_delta_step=None, max_depth=8, max_leaves=None,\n",
       "              min_child_weight=8, missing=nan, monotone_constraints=None,\n",
       "              multi_strategy=None, n_estimators=300, n_jobs=-1, num_class=5,\n",
       "              num_parallel_tree=None, ...)"
      ]
     },
     "execution_count": 264,
     "metadata": {},
     "output_type": "execute_result"
    }
   ],
   "source": [
    "model.fit(X_train_full, y_train_full)"
   ]
  },
  {
   "cell_type": "markdown",
   "metadata": {},
   "source": [
    "### See best/worst features (Optional)"
   ]
  },
  {
   "cell_type": "code",
   "execution_count": 286,
   "metadata": {},
   "outputs": [
    {
     "data": {
      "image/png": "[encoded data removed]",
      "text/plain": [
       "<Figure size 800x500 with 1 Axes>"
      ]
     },
     "metadata": {},
     "output_type": "display_data"
    }
   ],
   "source": [
    "sorted_idx = model.feature_importances_.argsort()[-10:][::-1]\n",
    "top_features = np.array(model.feature_importances_)[sorted_idx]\n",
    "\n",
    "plt.figure(figsize=(8, 5))\n",
    "plt.barh(range(10), top_features, align='center')\n",
    "plt.yticks(range(10), np.array(model.feature_names_in_)[sorted_idx])\n",
    "plt.xlabel(\"Feature Importance\")\n",
    "plt.title(\"Most Important Features in XGBoost Model\")\n",
    "plt.gca().invert_yaxis() \n",
    "plt.show()"
   ]
  },
  {
   "cell_type": "code",
   "execution_count": 285,
   "metadata": {},
   "outputs": [
    {
     "data": {
      "image/png": "[encoded data removed]",
      "text/plain": [
       "<Figure size 800x500 with 1 Axes>"
      ]
     },
     "metadata": {},
     "output_type": "display_data"
    }
   ],
   "source": [
    "sorted_idx = model.feature_importances_.argsort()[1:11]\n",
    "top_features = np.array(model.feature_importances_)[sorted_idx]\n",
    "\n",
    "plt.figure(figsize=(8, 5))\n",
    "plt.barh(range(10), top_features, align='center')\n",
    "plt.yticks(range(10), np.array(model.feature_names_in_)[sorted_idx])\n",
    "plt.xlabel(\"Feature Importance\")\n",
    "plt.title(\"Least Important Features in XGBoost Model\")\n",
    "plt.gca().invert_yaxis() \n",
    "plt.show()"
   ]
  },
  {
   "cell_type": "code",
   "execution_count": 113,
   "metadata": {},
   "outputs": [
    {
     "data": {
      "text/plain": [
       "Index(['Month', 'UniqueWords', 'AllCapsCount', 'end', 'back', 'another',\n",
       "       'find', 'deleted', 'part', 'things', 'got', 'place', 'real',\n",
       "       'difference', 'stage', 'comes', 'long', 'something', 'go', 'taking',\n",
       "       'scene', 'watch', 'director', 'secret', 'cast', 'making', 'begin',\n",
       "       'together', 'screen', 'come', 'guy', 'played', 'bruce', 'sure',\n",
       "       'without', 'sense', 'high', 'gets', 'home', 'use', 'sets', 'white',\n",
       "       'john', 'put', 'look', 'view', 'getting', 'watching', 'want', 'child',\n",
       "       'matter', 'man', 'feel', 'bring', 'girl', 'need', 'told', 'self',\n",
       "       'west', 'tell', 'visual', 'far', 'came', 'store', 'ahead', 'fan',\n",
       "       'crew', 'etc', 'earth', 'last', 'brothers', 'exciting', 'thinks',\n",
       "       'king', 'rich', 'night', 'turns', 'looking', 'wife', 'directors',\n",
       "       'wants', 'went', 'goes', 'say', 'becoming', 'house', 'later', 'appears',\n",
       "       'turn', 'talk', 'involved', 'recently', 'whole', 'woman', 'black',\n",
       "       'point', 'work', 'price', 'ago', 'wonder'],\n",
       "      dtype='object')"
      ]
     },
     "execution_count": 113,
     "metadata": {},
     "output_type": "execute_result"
    }
   ],
   "source": [
    "indexes = model.feature_importances_.argsort()[:100]\n",
    "least_important_column_names = X_train_full.columns[indexes]\n",
    "least_important_column_names"
   ]
  },
  {
   "cell_type": "markdown",
   "metadata": {},
   "source": [
    "### Evaluate"
   ]
  },
  {
   "cell_type": "code",
   "execution_count": 265,
   "metadata": {},
   "outputs": [
    {
     "data": {
      "image/png": "[encoded data removed]",
      "text/plain": [
       "<Figure size 500x500 with 1 Axes>"
      ]
     },
     "metadata": {},
     "output_type": "display_data"
    },
    {
     "name": "stdout",
     "output_type": "stream",
     "text": [
      "Accuracy: 67.35%\n",
      "prediction set: Counter({np.int32(5): 182723, np.int32(4): 57061, np.int32(3): 27377, np.int32(1): 17377, np.int32(2): 12529})\n"
     ]
    }
   ],
   "source": [
    "y_pred = model.predict(X_test_full)\n",
    "y_pred = y_pred+1\n",
    "evaluate(y_pred)"
   ]
  },
  {
   "cell_type": "code",
   "execution_count": 270,
   "metadata": {},
   "outputs": [],
   "source": [
    "submission.drop(columns=['Id'], axis=1,inplace=True)"
   ]
  },
  {
   "cell_type": "code",
   "execution_count": 271,
   "metadata": {},
   "outputs": [],
   "source": [
    "submission_pred = model.predict(submission)\n",
    "submission_pred = submission_pred + 1"
   ]
  },
  {
   "cell_type": "code",
   "execution_count": 276,
   "metadata": {},
   "outputs": [],
   "source": [
    "assert len(submission_pred) == 212192"
   ]
  },
  {
   "cell_type": "code",
   "execution_count": 273,
   "metadata": {},
   "outputs": [
    {
     "name": "stdout",
     "output_type": "stream",
     "text": [
      "Saved as submission.csv success!\n"
     ]
    }
   ],
   "source": [
    "get_submission_ready(submission_pred)"
   ]
  },
  {
   "cell_type": "code",
   "execution_count": 275,
   "metadata": {},
   "outputs": [
    {
     "name": "stdout",
     "output_type": "stream",
     "text": [
      "Model saved to models/xgb_final.pkl\n"
     ]
    }
   ],
   "source": [
    "import pickle\n",
    "with open(\"models/xgb_final.pkl\", 'wb') as file:\n",
    "    pickle.dump(model, file)\n",
    "\n",
    "print(f\"Model saved to models/xgb_final.pkl\")"
   ]
  }
 ],
 "metadata": {
  "kernelspec": {
   "display_name": "Python 3",
   "language": "python",
   "name": "python3"
  },
  "language_info": {
   "codemirror_mode": {
    "name": "ipython",
    "version": 3
   },
   "file_extension": ".py",
   "mimetype": "text/x-python",
   "name": "python",
   "nbconvert_exporter": "python",
   "pygments_lexer": "ipython3",
   "version": "3.10.15"
  }
 },
 "nbformat": 4,
 "nbformat_minor": 2
}
